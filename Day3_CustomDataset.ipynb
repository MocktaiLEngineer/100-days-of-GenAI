{
  "nbformat": 4,
  "nbformat_minor": 0,
  "metadata": {
    "colab": {
      "provenance": [],
      "authorship_tag": "ABX9TyP1XijwOhtGlFTb/X00zLjQ",
      "include_colab_link": true
    },
    "kernelspec": {
      "name": "python3",
      "display_name": "Python 3"
    },
    "language_info": {
      "name": "python"
    },
    "accelerator": "GPU",
    "gpuClass": "standard"
  },
  "cells": [
    {
      "cell_type": "markdown",
      "metadata": {
        "id": "view-in-github",
        "colab_type": "text"
      },
      "source": [
        "<a href=\"https://colab.research.google.com/github/MocktaiLEngineer/100-days-of-GenAI/blob/main/Day3_CustomDataset.ipynb\" target=\"_parent\"><img src=\"https://colab.research.google.com/assets/colab-badge.svg\" alt=\"Open In Colab\"/></a>"
      ]
    },
    {
      "cell_type": "code",
      "source": [
        "import torch\n",
        "import torch.nn.functional as F\n",
        "import torch.utils.data.dataset as Dataset"
      ],
      "metadata": {
        "id": "0OUTWU5dObwB"
      },
      "execution_count": 1,
      "outputs": []
    },
    {
      "cell_type": "code",
      "execution_count": 2,
      "metadata": {
        "id": "HNCfE3TJb3pe"
      },
      "outputs": [],
      "source": [
        "from pathlib import Path\n",
        "\n",
        "import pandas as pd\n",
        "\n",
        "\n",
        "def read_names_dataset(path: Path, filename: str) -> pd.DataFrame:\n",
        "    \"\"\"Read the names dataset csv file as a Pandas Dataframe\"\"\"\n",
        "\n",
        "    names = pd.read_csv(path / filename)\n",
        "\n",
        "    return names"
      ]
    },
    {
      "cell_type": "code",
      "source": [
        "dataset_path = Path(\"\")\n",
        "filename = \"names.csv\"\n",
        "\n",
        "names = read_names_dataset(dataset_path, filename)"
      ],
      "metadata": {
        "id": "eBVnoziUfBWs"
      },
      "execution_count": 3,
      "outputs": []
    },
    {
      "cell_type": "code",
      "source": [
        "names.info()"
      ],
      "metadata": {
        "colab": {
          "base_uri": "https://localhost:8080/"
        },
        "id": "VFcoiM2jfNjV",
        "outputId": "f5be395b-3709-45bc-f61e-4e5bd9d503f0"
      },
      "execution_count": 4,
      "outputs": [
        {
          "output_type": "stream",
          "name": "stdout",
          "text": [
            "<class 'pandas.core.frame.DataFrame'>\n",
            "RangeIndex: 11519228 entries, 0 to 11519227\n",
            "Data columns (total 1 columns):\n",
            " #   Column  Dtype \n",
            "---  ------  ----- \n",
            " 0   name    object\n",
            "dtypes: object(1)\n",
            "memory usage: 87.9+ MB\n"
          ]
        }
      ]
    },
    {
      "cell_type": "code",
      "source": [
        "names['name'] = names['name'].astype(\"string\")"
      ],
      "metadata": {
        "id": "PFcEwhjj7b5Y"
      },
      "execution_count": 5,
      "outputs": []
    },
    {
      "cell_type": "code",
      "source": [
        "# Statistical analysis\n",
        "\n",
        "names['name'].value_counts() # To check how many repeated names we have"
      ],
      "metadata": {
        "colab": {
          "base_uri": "https://localhost:8080/"
        },
        "id": "tQayzYGvfQkH",
        "outputId": "ff905799-1d27-4926-b9d9-efb4858edecc"
      },
      "execution_count": 6,
      "outputs": [
        {
          "output_type": "execute_result",
          "data": {
            "text/plain": [
              "John Smith       2998\n",
              "Paul Smith       1883\n",
              "David Smith      1537\n",
              "Mark Smith       1398\n",
              "James Smith      1259\n",
              "                 ... \n",
              "Marie Wintle        1\n",
              "Bill Colson         1\n",
              "Sumodh Philip       1\n",
              "Gareth Muller       1\n",
              "Darcy Cussick       1\n",
              "Name: name, Length: 6134984, dtype: Int64"
            ]
          },
          "metadata": {},
          "execution_count": 6
        }
      ]
    },
    {
      "cell_type": "code",
      "source": [
        "names.drop_duplicates(keep='first',inplace = True, ignore_index = True)"
      ],
      "metadata": {
        "id": "XeJ6LnMoBlkE"
      },
      "execution_count": 7,
      "outputs": []
    },
    {
      "cell_type": "code",
      "source": [
        "names.dropna(inplace = True)"
      ],
      "metadata": {
        "id": "6BR1M8pnB_BL"
      },
      "execution_count": 8,
      "outputs": []
    },
    {
      "cell_type": "code",
      "source": [
        "names['name'].astype('str').map(len).max()"
      ],
      "metadata": {
        "colab": {
          "base_uri": "https://localhost:8080/"
        },
        "id": "b2S20L3h4l5y",
        "outputId": "76820bdc-f366-4fbd-a352-052cd344124c"
      },
      "execution_count": 9,
      "outputs": [
        {
          "output_type": "execute_result",
          "data": {
            "text/plain": [
              "99"
            ]
          },
          "metadata": {},
          "execution_count": 9
        }
      ]
    },
    {
      "cell_type": "code",
      "source": [
        "names['name'].astype('str').map(len).min()"
      ],
      "metadata": {
        "colab": {
          "base_uri": "https://localhost:8080/"
        },
        "id": "WD9ojzH69qyb",
        "outputId": "4aa7f9d5-6bf3-49f0-cc83-62635fd7efe3"
      },
      "execution_count": 10,
      "outputs": [
        {
          "output_type": "execute_result",
          "data": {
            "text/plain": [
              "5"
            ]
          },
          "metadata": {},
          "execution_count": 10
        }
      ]
    },
    {
      "cell_type": "code",
      "source": [
        "names.describe()"
      ],
      "metadata": {
        "colab": {
          "base_uri": "https://localhost:8080/",
          "height": 175
        },
        "id": "aaCguZOn6izE",
        "outputId": "fe5221c7-cb27-4366-904e-41bca5b883cd"
      },
      "execution_count": 11,
      "outputs": [
        {
          "output_type": "execute_result",
          "data": {
            "text/plain": [
              "                 name\n",
              "count         6134984\n",
              "unique        6134984\n",
              "top     Luxeena Binoy\n",
              "freq                1"
            ],
            "text/html": [
              "\n",
              "  <div id=\"df-452cb757-8fe8-47f6-8905-c99adb0b0e2a\">\n",
              "    <div class=\"colab-df-container\">\n",
              "      <div>\n",
              "<style scoped>\n",
              "    .dataframe tbody tr th:only-of-type {\n",
              "        vertical-align: middle;\n",
              "    }\n",
              "\n",
              "    .dataframe tbody tr th {\n",
              "        vertical-align: top;\n",
              "    }\n",
              "\n",
              "    .dataframe thead th {\n",
              "        text-align: right;\n",
              "    }\n",
              "</style>\n",
              "<table border=\"1\" class=\"dataframe\">\n",
              "  <thead>\n",
              "    <tr style=\"text-align: right;\">\n",
              "      <th></th>\n",
              "      <th>name</th>\n",
              "    </tr>\n",
              "  </thead>\n",
              "  <tbody>\n",
              "    <tr>\n",
              "      <th>count</th>\n",
              "      <td>6134984</td>\n",
              "    </tr>\n",
              "    <tr>\n",
              "      <th>unique</th>\n",
              "      <td>6134984</td>\n",
              "    </tr>\n",
              "    <tr>\n",
              "      <th>top</th>\n",
              "      <td>Luxeena Binoy</td>\n",
              "    </tr>\n",
              "    <tr>\n",
              "      <th>freq</th>\n",
              "      <td>1</td>\n",
              "    </tr>\n",
              "  </tbody>\n",
              "</table>\n",
              "</div>\n",
              "      <button class=\"colab-df-convert\" onclick=\"convertToInteractive('df-452cb757-8fe8-47f6-8905-c99adb0b0e2a')\"\n",
              "              title=\"Convert this dataframe to an interactive table.\"\n",
              "              style=\"display:none;\">\n",
              "        \n",
              "  <svg xmlns=\"http://www.w3.org/2000/svg\" height=\"24px\"viewBox=\"0 0 24 24\"\n",
              "       width=\"24px\">\n",
              "    <path d=\"M0 0h24v24H0V0z\" fill=\"none\"/>\n",
              "    <path d=\"M18.56 5.44l.94 2.06.94-2.06 2.06-.94-2.06-.94-.94-2.06-.94 2.06-2.06.94zm-11 1L8.5 8.5l.94-2.06 2.06-.94-2.06-.94L8.5 2.5l-.94 2.06-2.06.94zm10 10l.94 2.06.94-2.06 2.06-.94-2.06-.94-.94-2.06-.94 2.06-2.06.94z\"/><path d=\"M17.41 7.96l-1.37-1.37c-.4-.4-.92-.59-1.43-.59-.52 0-1.04.2-1.43.59L10.3 9.45l-7.72 7.72c-.78.78-.78 2.05 0 2.83L4 21.41c.39.39.9.59 1.41.59.51 0 1.02-.2 1.41-.59l7.78-7.78 2.81-2.81c.8-.78.8-2.07 0-2.86zM5.41 20L4 18.59l7.72-7.72 1.47 1.35L5.41 20z\"/>\n",
              "  </svg>\n",
              "      </button>\n",
              "      \n",
              "  <style>\n",
              "    .colab-df-container {\n",
              "      display:flex;\n",
              "      flex-wrap:wrap;\n",
              "      gap: 12px;\n",
              "    }\n",
              "\n",
              "    .colab-df-convert {\n",
              "      background-color: #E8F0FE;\n",
              "      border: none;\n",
              "      border-radius: 50%;\n",
              "      cursor: pointer;\n",
              "      display: none;\n",
              "      fill: #1967D2;\n",
              "      height: 32px;\n",
              "      padding: 0 0 0 0;\n",
              "      width: 32px;\n",
              "    }\n",
              "\n",
              "    .colab-df-convert:hover {\n",
              "      background-color: #E2EBFA;\n",
              "      box-shadow: 0px 1px 2px rgba(60, 64, 67, 0.3), 0px 1px 3px 1px rgba(60, 64, 67, 0.15);\n",
              "      fill: #174EA6;\n",
              "    }\n",
              "\n",
              "    [theme=dark] .colab-df-convert {\n",
              "      background-color: #3B4455;\n",
              "      fill: #D2E3FC;\n",
              "    }\n",
              "\n",
              "    [theme=dark] .colab-df-convert:hover {\n",
              "      background-color: #434B5C;\n",
              "      box-shadow: 0px 1px 3px 1px rgba(0, 0, 0, 0.15);\n",
              "      filter: drop-shadow(0px 1px 2px rgba(0, 0, 0, 0.3));\n",
              "      fill: #FFFFFF;\n",
              "    }\n",
              "  </style>\n",
              "\n",
              "      <script>\n",
              "        const buttonEl =\n",
              "          document.querySelector('#df-452cb757-8fe8-47f6-8905-c99adb0b0e2a button.colab-df-convert');\n",
              "        buttonEl.style.display =\n",
              "          google.colab.kernel.accessAllowed ? 'block' : 'none';\n",
              "\n",
              "        async function convertToInteractive(key) {\n",
              "          const element = document.querySelector('#df-452cb757-8fe8-47f6-8905-c99adb0b0e2a');\n",
              "          const dataTable =\n",
              "            await google.colab.kernel.invokeFunction('convertToInteractive',\n",
              "                                                     [key], {});\n",
              "          if (!dataTable) return;\n",
              "\n",
              "          const docLinkHtml = 'Like what you see? Visit the ' +\n",
              "            '<a target=\"_blank\" href=https://colab.research.google.com/notebooks/data_table.ipynb>data table notebook</a>'\n",
              "            + ' to learn more about interactive tables.';\n",
              "          element.innerHTML = '';\n",
              "          dataTable['output_type'] = 'display_data';\n",
              "          await google.colab.output.renderOutput(dataTable, element);\n",
              "          const docLink = document.createElement('div');\n",
              "          docLink.innerHTML = docLinkHtml;\n",
              "          element.appendChild(docLink);\n",
              "        }\n",
              "      </script>\n",
              "    </div>\n",
              "  </div>\n",
              "  "
            ]
          },
          "metadata": {},
          "execution_count": 11
        }
      ]
    },
    {
      "cell_type": "code",
      "source": [
        "import re\n",
        "\n",
        "def clean_names(df, column_name):\n",
        "    \"\"\"\n",
        "    This function takes in a pandas DataFrame and the name of a column containing\n",
        "    names, and returns a new DataFrame with only the rows containing names in English.\n",
        "    \"\"\"\n",
        "    # create a copy of the original DataFrame\n",
        "    cleaned_df = df.copy()\n",
        "\n",
        "    # create a regular expression pattern to match only English alphabets\n",
        "    pattern = r'^[a-zA-Z\\s]+$'\n",
        "\n",
        "    # apply the pattern to the column containing names, keeping only rows where the name is in English\n",
        "    cleaned_df = cleaned_df[cleaned_df[column_name].str.contains(pattern, na=False)]\n",
        "\n",
        "    # reset the index of the cleaned DataFrame\n",
        "    cleaned_df.reset_index(drop=True, inplace=True)\n",
        "\n",
        "    return cleaned_df"
      ],
      "metadata": {
        "id": "MkTvC4k3E1G_"
      },
      "execution_count": 12,
      "outputs": []
    },
    {
      "cell_type": "code",
      "source": [
        "cleaned_names = clean_names(names, 'name')"
      ],
      "metadata": {
        "id": "Pyfe8KTlE2uP"
      },
      "execution_count": 13,
      "outputs": []
    },
    {
      "cell_type": "code",
      "source": [
        "cleaned_names"
      ],
      "metadata": {
        "colab": {
          "base_uri": "https://localhost:8080/",
          "height": 424
        },
        "id": "wysK5xvJFEnN",
        "outputId": "0759faea-1b88-4053-9d86-6f26aabd35de"
      },
      "execution_count": 14,
      "outputs": [
        {
          "output_type": "execute_result",
          "data": {
            "text/plain": [
              "                   name\n",
              "0         Luxeena Binoy\n",
              "1            Lisa Allen\n",
              "2          Richard Wood\n",
              "3           Luke Murphy\n",
              "4        Adrian Heacock\n",
              "...                 ...\n",
              "5816351     Ella Rapier\n",
              "5816352     Reo Burgess\n",
              "5816353    Niamh Briffa\n",
              "5816354     Henni Amara\n",
              "5816355   Darcy Cussick\n",
              "\n",
              "[5816356 rows x 1 columns]"
            ],
            "text/html": [
              "\n",
              "  <div id=\"df-f80f2b22-49ba-4b65-bdfa-72b40dd7395f\">\n",
              "    <div class=\"colab-df-container\">\n",
              "      <div>\n",
              "<style scoped>\n",
              "    .dataframe tbody tr th:only-of-type {\n",
              "        vertical-align: middle;\n",
              "    }\n",
              "\n",
              "    .dataframe tbody tr th {\n",
              "        vertical-align: top;\n",
              "    }\n",
              "\n",
              "    .dataframe thead th {\n",
              "        text-align: right;\n",
              "    }\n",
              "</style>\n",
              "<table border=\"1\" class=\"dataframe\">\n",
              "  <thead>\n",
              "    <tr style=\"text-align: right;\">\n",
              "      <th></th>\n",
              "      <th>name</th>\n",
              "    </tr>\n",
              "  </thead>\n",
              "  <tbody>\n",
              "    <tr>\n",
              "      <th>0</th>\n",
              "      <td>Luxeena Binoy</td>\n",
              "    </tr>\n",
              "    <tr>\n",
              "      <th>1</th>\n",
              "      <td>Lisa Allen</td>\n",
              "    </tr>\n",
              "    <tr>\n",
              "      <th>2</th>\n",
              "      <td>Richard Wood</td>\n",
              "    </tr>\n",
              "    <tr>\n",
              "      <th>3</th>\n",
              "      <td>Luke Murphy</td>\n",
              "    </tr>\n",
              "    <tr>\n",
              "      <th>4</th>\n",
              "      <td>Adrian Heacock</td>\n",
              "    </tr>\n",
              "    <tr>\n",
              "      <th>...</th>\n",
              "      <td>...</td>\n",
              "    </tr>\n",
              "    <tr>\n",
              "      <th>5816351</th>\n",
              "      <td>Ella Rapier</td>\n",
              "    </tr>\n",
              "    <tr>\n",
              "      <th>5816352</th>\n",
              "      <td>Reo Burgess</td>\n",
              "    </tr>\n",
              "    <tr>\n",
              "      <th>5816353</th>\n",
              "      <td>Niamh Briffa</td>\n",
              "    </tr>\n",
              "    <tr>\n",
              "      <th>5816354</th>\n",
              "      <td>Henni Amara</td>\n",
              "    </tr>\n",
              "    <tr>\n",
              "      <th>5816355</th>\n",
              "      <td>Darcy Cussick</td>\n",
              "    </tr>\n",
              "  </tbody>\n",
              "</table>\n",
              "<p>5816356 rows × 1 columns</p>\n",
              "</div>\n",
              "      <button class=\"colab-df-convert\" onclick=\"convertToInteractive('df-f80f2b22-49ba-4b65-bdfa-72b40dd7395f')\"\n",
              "              title=\"Convert this dataframe to an interactive table.\"\n",
              "              style=\"display:none;\">\n",
              "        \n",
              "  <svg xmlns=\"http://www.w3.org/2000/svg\" height=\"24px\"viewBox=\"0 0 24 24\"\n",
              "       width=\"24px\">\n",
              "    <path d=\"M0 0h24v24H0V0z\" fill=\"none\"/>\n",
              "    <path d=\"M18.56 5.44l.94 2.06.94-2.06 2.06-.94-2.06-.94-.94-2.06-.94 2.06-2.06.94zm-11 1L8.5 8.5l.94-2.06 2.06-.94-2.06-.94L8.5 2.5l-.94 2.06-2.06.94zm10 10l.94 2.06.94-2.06 2.06-.94-2.06-.94-.94-2.06-.94 2.06-2.06.94z\"/><path d=\"M17.41 7.96l-1.37-1.37c-.4-.4-.92-.59-1.43-.59-.52 0-1.04.2-1.43.59L10.3 9.45l-7.72 7.72c-.78.78-.78 2.05 0 2.83L4 21.41c.39.39.9.59 1.41.59.51 0 1.02-.2 1.41-.59l7.78-7.78 2.81-2.81c.8-.78.8-2.07 0-2.86zM5.41 20L4 18.59l7.72-7.72 1.47 1.35L5.41 20z\"/>\n",
              "  </svg>\n",
              "      </button>\n",
              "      \n",
              "  <style>\n",
              "    .colab-df-container {\n",
              "      display:flex;\n",
              "      flex-wrap:wrap;\n",
              "      gap: 12px;\n",
              "    }\n",
              "\n",
              "    .colab-df-convert {\n",
              "      background-color: #E8F0FE;\n",
              "      border: none;\n",
              "      border-radius: 50%;\n",
              "      cursor: pointer;\n",
              "      display: none;\n",
              "      fill: #1967D2;\n",
              "      height: 32px;\n",
              "      padding: 0 0 0 0;\n",
              "      width: 32px;\n",
              "    }\n",
              "\n",
              "    .colab-df-convert:hover {\n",
              "      background-color: #E2EBFA;\n",
              "      box-shadow: 0px 1px 2px rgba(60, 64, 67, 0.3), 0px 1px 3px 1px rgba(60, 64, 67, 0.15);\n",
              "      fill: #174EA6;\n",
              "    }\n",
              "\n",
              "    [theme=dark] .colab-df-convert {\n",
              "      background-color: #3B4455;\n",
              "      fill: #D2E3FC;\n",
              "    }\n",
              "\n",
              "    [theme=dark] .colab-df-convert:hover {\n",
              "      background-color: #434B5C;\n",
              "      box-shadow: 0px 1px 3px 1px rgba(0, 0, 0, 0.15);\n",
              "      filter: drop-shadow(0px 1px 2px rgba(0, 0, 0, 0.3));\n",
              "      fill: #FFFFFF;\n",
              "    }\n",
              "  </style>\n",
              "\n",
              "      <script>\n",
              "        const buttonEl =\n",
              "          document.querySelector('#df-f80f2b22-49ba-4b65-bdfa-72b40dd7395f button.colab-df-convert');\n",
              "        buttonEl.style.display =\n",
              "          google.colab.kernel.accessAllowed ? 'block' : 'none';\n",
              "\n",
              "        async function convertToInteractive(key) {\n",
              "          const element = document.querySelector('#df-f80f2b22-49ba-4b65-bdfa-72b40dd7395f');\n",
              "          const dataTable =\n",
              "            await google.colab.kernel.invokeFunction('convertToInteractive',\n",
              "                                                     [key], {});\n",
              "          if (!dataTable) return;\n",
              "\n",
              "          const docLinkHtml = 'Like what you see? Visit the ' +\n",
              "            '<a target=\"_blank\" href=https://colab.research.google.com/notebooks/data_table.ipynb>data table notebook</a>'\n",
              "            + ' to learn more about interactive tables.';\n",
              "          element.innerHTML = '';\n",
              "          dataTable['output_type'] = 'display_data';\n",
              "          await google.colab.output.renderOutput(dataTable, element);\n",
              "          const docLink = document.createElement('div');\n",
              "          docLink.innerHTML = docLinkHtml;\n",
              "          element.appendChild(docLink);\n",
              "        }\n",
              "      </script>\n",
              "    </div>\n",
              "  </div>\n",
              "  "
            ]
          },
          "metadata": {},
          "execution_count": 14
        }
      ]
    },
    {
      "cell_type": "code",
      "source": [
        "import torch\n",
        "import torch.nn.functional as F\n",
        "from torch.utils.data import Dataset, DataLoader\n",
        "\n",
        "words = cleaned_names['name'].to_list()\n",
        "\n",
        "TOKEN = '.'\n",
        "vocab = [TOKEN] + sorted(list(set(''.join(words))))\n",
        "\n",
        "\n",
        "char_to_int = {char:i for i,char in enumerate(vocab)}\n",
        "int_to_char = {i:char for char,i in char_to_int.items()}\n",
        "\n",
        "n = len(vocab)\n",
        "\n",
        "class BigramDataset(Dataset):\n",
        "    def __init__(self, words):\n",
        "        self.words = words\n",
        "        \n",
        "        X,Y = [],[]\n",
        "        for word in words:\n",
        "            word = [TOKEN] + list(word) + [TOKEN]\n",
        "            for ch1,ch2 in zip(word,word[1:]):\n",
        "                ix1 = char_to_int[ch1]\n",
        "                ix2 = char_to_int[ch2]\n",
        "                X.append(ix1)\n",
        "                Y.append(ix2)\n",
        "        self.X = torch.tensor(X)\n",
        "        self.Y = torch.tensor(Y)\n",
        "\n",
        "    def __len__(self):\n",
        "        return len(self.X)\n",
        "\n",
        "    def __getitem__(self, idx):\n",
        "        return self.X[idx], self.Y[idx]\n",
        "\n",
        "dataset = BigramDataset(words, char_to_int)\n",
        "dataloader = DataLoader(dataset, batch_size=16, shuffle=True)\n",
        "\n",
        "# Initialising the network\n",
        "g = torch.Generator().manual_seed(2147483647) # for reproducibility\n",
        "W = torch.randn((n,n), requires_grad = True, generator=g)\n",
        "num = len(dataset)\n",
        "\n",
        "for i in range(1):\n",
        "    for X, Y in dataloader:\n",
        "        # Forward pass\n",
        "        xenc = F.one_hot(X, num_classes = n).float()\n",
        "        logits = xenc @ W #Log counts\n",
        "        counts = logits.exp()\n",
        "        probs = counts / torch.sum(counts, dim = 1, keepdim = True)\n",
        "        loss = -probs[torch.arange(len(X)), Y].log().mean() \n",
        "\n",
        "        # Backward pass\n",
        "        W.grad = None\n",
        "        loss.backward()\n",
        "\n",
        "        # Update parameters\n",
        "        W.data += -0.1 * W.grad\n",
        "    print(f\"Iteration {i} | Loss {loss=}\")\n",
        "\n",
        "print(f'{loss=}')\n",
        "\n",
        "# Let's sample and generate\n",
        "g = torch.Generator().manual_seed(2147483647) # for reproducibility\n",
        "\n",
        "for i in range(10):\n",
        "  name = []\n",
        "  ix = 0\n",
        "  while True:\n",
        "    xenc = F.one_hot(torch.tensor([ix]), num_classes = n).float()\n",
        "    logits = xenc @ W #Log counts\n",
        "    counts = logits.exp()\n",
        "    probs = counts / torch.sum(counts, dim = 1, keepdim = True)\n",
        "    ix = torch.multinomial(probs, num_samples = 1, replacement = True, generator = g).item()\n",
        "    name.append(int_to_char[ix])\n",
        "    if ix == 0:\n",
        "      break\n",
        "  print(''.join(name))"
      ],
      "metadata": {
        "id": "vwnEHtFR-1zB"
      },
      "execution_count": null,
      "outputs": []
    },
    {
      "cell_type": "code",
      "source": [
        "# Let's sample and generate\n",
        "g = torch.Generator().manual_seed(2147483647) # for reproducibility\n",
        "\n",
        "for i in range(50):\n",
        "  name = []\n",
        "  ix = 0\n",
        "  while True:\n",
        "    xenc = F.one_hot(torch.tensor([ix]), num_classes = n).float()\n",
        "    logits = xenc @ W #Log counts\n",
        "    counts = logits.exp()\n",
        "    probs = counts / torch.sum(counts, dim = 1, keepdim = True)\n",
        "    ix = torch.multinomial(probs, num_samples = 1, replacement = True, generator = g).item()\n",
        "    name.append(int_to_char[ix])\n",
        "    if ix == 0:\n",
        "      break\n",
        "  print(''.join(name))"
      ],
      "metadata": {
        "colab": {
          "base_uri": "https://localhost:8080/"
        },
        "id": "cea22s1JGNmI",
        "outputId": "a0a99c5e-5ee9-4d4c-8e6c-ef5876e9e529"
      },
      "execution_count": 22,
      "outputs": [
        {
          "output_type": "stream",
          "name": "stdout",
          "text": [
            "Mor.\n",
            "Att.\n",
            "Mindwisoy Gr.\n",
            "Knaniallaia.\n",
            "Mcithiy.\n",
            "Ron.\n",
            "Packen Hagbbre Hamingetharaieyncn.\n",
            "Ha Ta Cheyl Heen Monngaghier.\n",
            "Ca Ga Isenel Asous.\n",
            "Mcherrovahy.\n",
            "Crcopik Manoymaxtophanghhe Torscenn Grs Ginntunis.\n",
            "Stkica Wal Miei.\n",
            "Hainelindele.\n",
            "Lodiu.\n",
            "Epwis.\n",
            "Ye Hake.\n",
            "Kaytrrerwoorrar.\n",
            "Sasm Blosellvirarn Emieandr.\n",
            "Dille Sahe Sledateloderm Hon.\n",
            "Eysbhir.\n",
            "Jarodieash Cie Corre Cl.\n",
            "Benartana Peetary.\n",
            "Pathan Huelvea Dana Mcodmo.\n",
            "Chyroppl Frd.\n",
            "Chajlli.\n",
            "Stton Bi Bl.\n",
            "Amsaneespham Par Mahieleyar.\n",
            "Alllorollifin Eviabe porin Gennnseso.\n",
            "Hevanddgube.\n",
            "Pebakon.\n",
            "Ge.\n",
            "Saconeionotroululloweany.\n",
            "Roestas.\n",
            "LichEdhanackee Haranor.\n",
            "Aset Jal Kappps Honulvard.\n",
            "Jindavickindelare Stkelier.\n",
            "Mckar.\n",
            "Cobylerish Mis.\n",
            "Chaniczumitos Domericcell Fafer.\n",
            "Sun Elitintcuest.\n",
            "An.\n",
            "Isgohetatis.\n",
            "Naviors Mal.\n",
            "Rary.\n",
            "Rumeonti.\n",
            "Kuikiley Aum Cherallimoulchlia.\n",
            "Te Mabive.\n",
            "Khma Bir.\n",
            "TopStheampie Cary.\n",
            "Rilala Lealan Jos.\n"
          ]
        }
      ]
    }
  ]
}